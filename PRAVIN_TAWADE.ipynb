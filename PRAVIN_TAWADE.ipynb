{
  "nbformat": 4,
  "nbformat_minor": 0,
  "metadata": {
    "colab": {
      "provenance": [],
      "authorship_tag": "ABX9TyMt/r6+++qRfMPRWcEED+iq",
      "include_colab_link": true
    },
    "kernelspec": {
      "name": "python3",
      "display_name": "Python 3"
    },
    "language_info": {
      "name": "python"
    }
  },
  "cells": [
    {
      "cell_type": "markdown",
      "metadata": {
        "id": "view-in-github",
        "colab_type": "text"
      },
      "source": [
        "<a href=\"https://colab.research.google.com/github/pravin691983/MelanomaDetectionAssignment/blob/dev/PRAVIN_TAWADE.ipynb\" target=\"_parent\"><img src=\"https://colab.research.google.com/assets/colab-badge.svg\" alt=\"Open In Colab\"/></a>"
      ]
    },
    {
      "cell_type": "markdown",
      "source": [
        "# Melanoma Detection Assignment"
      ],
      "metadata": {
        "id": "PzTTuP63a11l"
      }
    },
    {
      "cell_type": "code",
      "source": [],
      "metadata": {
        "id": "ydYzejNya805"
      },
      "execution_count": null,
      "outputs": []
    },
    {
      "cell_type": "code",
      "source": [],
      "metadata": {
        "id": "BK48yaeHa5lD"
      },
      "execution_count": null,
      "outputs": []
    },
    {
      "cell_type": "code",
      "execution_count": null,
      "metadata": {
        "id": "X7GnWCNsaWQW"
      },
      "outputs": [],
      "source": [
        "print(\"Hello  World\")"
      ]
    }
  ]
}